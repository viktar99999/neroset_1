{
 "cells": [
  {
   "cell_type": "code",
   "execution_count": 1,
   "id": "aa5bd72d-3390-4e57-9c17-ac78fc467e37",
   "metadata": {},
   "outputs": [],
   "source": [
    "#!/usr/bin/env python"
   ]
  },
  {
   "cell_type": "code",
   "execution_count": 2,
   "id": "a3a098f4-906f-4aba-974f-ba6ce8902bb0",
   "metadata": {},
   "outputs": [],
   "source": [
    "# -*- coding: utf-8 -*-"
   ]
  },
  {
   "cell_type": "code",
   "execution_count": 3,
   "id": "69f0db46-0869-4cc6-b94b-4edd0b935191",
   "metadata": {},
   "outputs": [],
   "source": [
    "import numpy as np"
   ]
  },
  {
   "cell_type": "code",
   "execution_count": 4,
   "id": "ab337370-f5e2-466c-910f-2d94d85178b6",
   "metadata": {},
   "outputs": [],
   "source": [
    "import pandas as pd"
   ]
  },
  {
   "cell_type": "code",
   "execution_count": 5,
   "id": "9592a185-b7a2-46c7-99d1-778a6a0f867a",
   "metadata": {},
   "outputs": [],
   "source": [
    "import tqdm"
   ]
  },
  {
   "cell_type": "code",
   "execution_count": 6,
   "id": "219553fa-f90e-4bd9-8996-39f21fb8c8ef",
   "metadata": {},
   "outputs": [],
   "source": [
    "import torch"
   ]
  },
  {
   "cell_type": "code",
   "execution_count": 7,
   "id": "9c348cbf-306b-433e-9c72-2cd861028834",
   "metadata": {},
   "outputs": [],
   "source": [
    "import torch.nn.functional as F"
   ]
  },
  {
   "cell_type": "code",
   "execution_count": 8,
   "id": "174b2fde-d97c-4a8a-8434-1bddd34285e0",
   "metadata": {},
   "outputs": [],
   "source": [
    "from sklearn.linear_model import LinearRegression"
   ]
  },
  {
   "cell_type": "code",
   "execution_count": 9,
   "id": "9bdaa443-2821-4703-8148-7ea8a8ef332c",
   "metadata": {},
   "outputs": [],
   "source": [
    "from sklearn.model_selection import train_test_split"
   ]
  },
  {
   "cell_type": "code",
   "execution_count": 10,
   "id": "0dc34f98-cce0-46ad-8e27-603c01db5a1a",
   "metadata": {},
   "outputs": [],
   "source": [
    "from sklearn.preprocessing import MinMaxScaler"
   ]
  },
  {
   "cell_type": "code",
   "execution_count": 11,
   "id": "2b2c20c0-a203-4bb8-ab55-19209f17efbd",
   "metadata": {},
   "outputs": [],
   "source": [
    "from torch import nn"
   ]
  },
  {
   "cell_type": "code",
   "execution_count": 12,
   "id": "c8a1b6e9-8124-4b18-be54-a54766affd1c",
   "metadata": {},
   "outputs": [],
   "source": [
    "from torch import optim"
   ]
  },
  {
   "cell_type": "code",
   "execution_count": 13,
   "id": "13f158f3-4699-401c-8563-c7036860d8ac",
   "metadata": {},
   "outputs": [],
   "source": [
    "# import python_libs"
   ]
  },
  {
   "cell_type": "code",
   "execution_count": 14,
   "id": "c60aaf43-5882-4b8a-8ace-c5a1255a9269",
   "metadata": {},
   "outputs": [],
   "source": [
    "np.random.seed(42)"
   ]
  },
  {
   "cell_type": "code",
   "execution_count": 15,
   "id": "d1225c3e-280d-4822-8600-c18b1e29086e",
   "metadata": {},
   "outputs": [],
   "source": [
    "# parameters model"
   ]
  },
  {
   "cell_type": "code",
   "execution_count": 16,
   "id": "cf93730e-c9c5-4ca1-ae78-98696fb9439b",
   "metadata": {},
   "outputs": [
    {
     "data": {
      "text/plain": [
       "<torch._C.Generator at 0x7f2a6f08f8d0>"
      ]
     },
     "execution_count": 16,
     "metadata": {},
     "output_type": "execute_result"
    }
   ],
   "source": [
    "torch.manual_seed(42)"
   ]
  },
  {
   "cell_type": "code",
   "execution_count": 17,
   "id": "fce5bfef-cefb-40f2-956d-75cb2505c497",
   "metadata": {},
   "outputs": [],
   "source": [
    "# parameters torch model"
   ]
  },
  {
   "cell_type": "code",
   "execution_count": 18,
   "id": "5c993dc4-d81b-4d8c-aa4a-ddccb9b61737",
   "metadata": {},
   "outputs": [],
   "source": [
    "df = pd.read_csv('city.csv')"
   ]
  },
  {
   "cell_type": "code",
   "execution_count": 19,
   "id": "a095ee0b-1cc9-4f23-9a1c-36baae899a8e",
   "metadata": {},
   "outputs": [],
   "source": [
    "# download city.csv"
   ]
  },
  {
   "cell_type": "code",
   "execution_count": 20,
   "id": "178d46de-290c-4659-9901-3ec4b295df9b",
   "metadata": {},
   "outputs": [
    {
     "data": {
      "text/html": [
       "<div>\n",
       "<style scoped>\n",
       "    .dataframe tbody tr th:only-of-type {\n",
       "        vertical-align: middle;\n",
       "    }\n",
       "\n",
       "    .dataframe tbody tr th {\n",
       "        vertical-align: top;\n",
       "    }\n",
       "\n",
       "    .dataframe thead th {\n",
       "        text-align: right;\n",
       "    }\n",
       "</style>\n",
       "<table border=\"1\" class=\"dataframe\">\n",
       "  <thead>\n",
       "    <tr style=\"text-align: right;\">\n",
       "      <th></th>\n",
       "      <th>crim</th>\n",
       "      <th>zn</th>\n",
       "      <th>indus</th>\n",
       "      <th>chas</th>\n",
       "      <th>nox</th>\n",
       "      <th>rm</th>\n",
       "      <th>age</th>\n",
       "      <th>dis</th>\n",
       "      <th>rad</th>\n",
       "      <th>tax</th>\n",
       "      <th>ptratio</th>\n",
       "      <th>black</th>\n",
       "      <th>lstat</th>\n",
       "      <th>medv</th>\n",
       "    </tr>\n",
       "  </thead>\n",
       "  <tbody>\n",
       "    <tr>\n",
       "      <th>0</th>\n",
       "      <td>0.00632</td>\n",
       "      <td>18.0</td>\n",
       "      <td>2.31</td>\n",
       "      <td>0</td>\n",
       "      <td>0.538</td>\n",
       "      <td>6.575</td>\n",
       "      <td>65.2</td>\n",
       "      <td>4.0900</td>\n",
       "      <td>1</td>\n",
       "      <td>296</td>\n",
       "      <td>15.3</td>\n",
       "      <td>396.90</td>\n",
       "      <td>4.98</td>\n",
       "      <td>24.0</td>\n",
       "    </tr>\n",
       "    <tr>\n",
       "      <th>1</th>\n",
       "      <td>0.02731</td>\n",
       "      <td>0.0</td>\n",
       "      <td>7.07</td>\n",
       "      <td>0</td>\n",
       "      <td>0.469</td>\n",
       "      <td>6.421</td>\n",
       "      <td>78.9</td>\n",
       "      <td>4.9671</td>\n",
       "      <td>2</td>\n",
       "      <td>242</td>\n",
       "      <td>17.8</td>\n",
       "      <td>396.90</td>\n",
       "      <td>9.14</td>\n",
       "      <td>21.6</td>\n",
       "    </tr>\n",
       "    <tr>\n",
       "      <th>2</th>\n",
       "      <td>0.02729</td>\n",
       "      <td>0.0</td>\n",
       "      <td>7.07</td>\n",
       "      <td>0</td>\n",
       "      <td>0.469</td>\n",
       "      <td>7.185</td>\n",
       "      <td>61.1</td>\n",
       "      <td>4.9671</td>\n",
       "      <td>2</td>\n",
       "      <td>242</td>\n",
       "      <td>17.8</td>\n",
       "      <td>392.83</td>\n",
       "      <td>4.03</td>\n",
       "      <td>34.7</td>\n",
       "    </tr>\n",
       "    <tr>\n",
       "      <th>3</th>\n",
       "      <td>0.03237</td>\n",
       "      <td>0.0</td>\n",
       "      <td>2.18</td>\n",
       "      <td>0</td>\n",
       "      <td>0.458</td>\n",
       "      <td>6.998</td>\n",
       "      <td>45.8</td>\n",
       "      <td>6.0622</td>\n",
       "      <td>3</td>\n",
       "      <td>222</td>\n",
       "      <td>18.7</td>\n",
       "      <td>394.63</td>\n",
       "      <td>2.94</td>\n",
       "      <td>33.4</td>\n",
       "    </tr>\n",
       "    <tr>\n",
       "      <th>4</th>\n",
       "      <td>0.06905</td>\n",
       "      <td>0.0</td>\n",
       "      <td>2.18</td>\n",
       "      <td>0</td>\n",
       "      <td>0.458</td>\n",
       "      <td>7.147</td>\n",
       "      <td>54.2</td>\n",
       "      <td>6.0622</td>\n",
       "      <td>3</td>\n",
       "      <td>222</td>\n",
       "      <td>18.7</td>\n",
       "      <td>396.90</td>\n",
       "      <td>5.33</td>\n",
       "      <td>36.2</td>\n",
       "    </tr>\n",
       "  </tbody>\n",
       "</table>\n",
       "</div>"
      ],
      "text/plain": [
       "      crim    zn  indus  chas    nox     rm   age     dis  rad  tax  ptratio  \\\n",
       "0  0.00632  18.0   2.31     0  0.538  6.575  65.2  4.0900    1  296     15.3   \n",
       "1  0.02731   0.0   7.07     0  0.469  6.421  78.9  4.9671    2  242     17.8   \n",
       "2  0.02729   0.0   7.07     0  0.469  7.185  61.1  4.9671    2  242     17.8   \n",
       "3  0.03237   0.0   2.18     0  0.458  6.998  45.8  6.0622    3  222     18.7   \n",
       "4  0.06905   0.0   2.18     0  0.458  7.147  54.2  6.0622    3  222     18.7   \n",
       "\n",
       "    black  lstat  medv  \n",
       "0  396.90   4.98  24.0  \n",
       "1  396.90   9.14  21.6  \n",
       "2  392.83   4.03  34.7  \n",
       "3  394.63   2.94  33.4  \n",
       "4  396.90   5.33  36.2  "
      ]
     },
     "execution_count": 20,
     "metadata": {},
     "output_type": "execute_result"
    }
   ],
   "source": [
    "df.head()"
   ]
  },
  {
   "cell_type": "code",
   "execution_count": 21,
   "id": "5e0eef06-b397-45b0-bd79-bd485b982967",
   "metadata": {},
   "outputs": [],
   "source": [
    "# show head() city.csv"
   ]
  },
  {
   "cell_type": "code",
   "execution_count": 22,
   "id": "0c30bca5-95ad-4c49-874f-278559abc8ed",
   "metadata": {},
   "outputs": [
    {
     "name": "stdout",
     "output_type": "stream",
     "text": [
      "(506, 14)\n"
     ]
    }
   ],
   "source": [
    "print(df.shape)"
   ]
  },
  {
   "cell_type": "code",
   "execution_count": 23,
   "id": "d583794e-c837-46ff-a152-f7961f8d78d6",
   "metadata": {},
   "outputs": [],
   "source": [
    "# show shape() city.csv"
   ]
  },
  {
   "cell_type": "code",
   "execution_count": 24,
   "id": "426cdeb8-9db8-42fd-9bf3-cd6dfded22e2",
   "metadata": {},
   "outputs": [],
   "source": [
    "Y = df['medv']"
   ]
  },
  {
   "cell_type": "code",
   "execution_count": 25,
   "id": "07b300b0-2ce3-4ecc-ac35-5599a15dedf4",
   "metadata": {},
   "outputs": [],
   "source": [
    "# show target(Y) city.csv"
   ]
  },
  {
   "cell_type": "code",
   "execution_count": 26,
   "id": "64d179d6-86e9-47fd-b311-dc3cf7909f2a",
   "metadata": {},
   "outputs": [],
   "source": [
    "X = df.iloc[:, 0:12]\n",
    "y = df.iloc[:, 12]"
   ]
  },
  {
   "cell_type": "code",
   "execution_count": 27,
   "id": "dc945f14-e52b-48be-8018-4675bae8cf61",
   "metadata": {},
   "outputs": [],
   "source": [
    "# show target(y) city.csv"
   ]
  },
  {
   "cell_type": "code",
   "execution_count": 28,
   "id": "f7eaffdf-acdf-4be6-b114-8e8503300b7c",
   "metadata": {},
   "outputs": [
    {
     "data": {
      "text/html": [
       "<div>\n",
       "<style scoped>\n",
       "    .dataframe tbody tr th:only-of-type {\n",
       "        vertical-align: middle;\n",
       "    }\n",
       "\n",
       "    .dataframe tbody tr th {\n",
       "        vertical-align: top;\n",
       "    }\n",
       "\n",
       "    .dataframe thead th {\n",
       "        text-align: right;\n",
       "    }\n",
       "</style>\n",
       "<table border=\"1\" class=\"dataframe\">\n",
       "  <thead>\n",
       "    <tr style=\"text-align: right;\">\n",
       "      <th></th>\n",
       "      <th>crim</th>\n",
       "      <th>zn</th>\n",
       "      <th>indus</th>\n",
       "      <th>chas</th>\n",
       "      <th>nox</th>\n",
       "      <th>rm</th>\n",
       "      <th>age</th>\n",
       "      <th>dis</th>\n",
       "      <th>rad</th>\n",
       "      <th>tax</th>\n",
       "      <th>ptratio</th>\n",
       "      <th>black</th>\n",
       "    </tr>\n",
       "  </thead>\n",
       "  <tbody>\n",
       "    <tr>\n",
       "      <th>0</th>\n",
       "      <td>0.00632</td>\n",
       "      <td>18.0</td>\n",
       "      <td>2.31</td>\n",
       "      <td>0</td>\n",
       "      <td>0.538</td>\n",
       "      <td>6.575</td>\n",
       "      <td>65.2</td>\n",
       "      <td>4.0900</td>\n",
       "      <td>1</td>\n",
       "      <td>296</td>\n",
       "      <td>15.3</td>\n",
       "      <td>396.90</td>\n",
       "    </tr>\n",
       "    <tr>\n",
       "      <th>1</th>\n",
       "      <td>0.02731</td>\n",
       "      <td>0.0</td>\n",
       "      <td>7.07</td>\n",
       "      <td>0</td>\n",
       "      <td>0.469</td>\n",
       "      <td>6.421</td>\n",
       "      <td>78.9</td>\n",
       "      <td>4.9671</td>\n",
       "      <td>2</td>\n",
       "      <td>242</td>\n",
       "      <td>17.8</td>\n",
       "      <td>396.90</td>\n",
       "    </tr>\n",
       "    <tr>\n",
       "      <th>2</th>\n",
       "      <td>0.02729</td>\n",
       "      <td>0.0</td>\n",
       "      <td>7.07</td>\n",
       "      <td>0</td>\n",
       "      <td>0.469</td>\n",
       "      <td>7.185</td>\n",
       "      <td>61.1</td>\n",
       "      <td>4.9671</td>\n",
       "      <td>2</td>\n",
       "      <td>242</td>\n",
       "      <td>17.8</td>\n",
       "      <td>392.83</td>\n",
       "    </tr>\n",
       "    <tr>\n",
       "      <th>3</th>\n",
       "      <td>0.03237</td>\n",
       "      <td>0.0</td>\n",
       "      <td>2.18</td>\n",
       "      <td>0</td>\n",
       "      <td>0.458</td>\n",
       "      <td>6.998</td>\n",
       "      <td>45.8</td>\n",
       "      <td>6.0622</td>\n",
       "      <td>3</td>\n",
       "      <td>222</td>\n",
       "      <td>18.7</td>\n",
       "      <td>394.63</td>\n",
       "    </tr>\n",
       "    <tr>\n",
       "      <th>4</th>\n",
       "      <td>0.06905</td>\n",
       "      <td>0.0</td>\n",
       "      <td>2.18</td>\n",
       "      <td>0</td>\n",
       "      <td>0.458</td>\n",
       "      <td>7.147</td>\n",
       "      <td>54.2</td>\n",
       "      <td>6.0622</td>\n",
       "      <td>3</td>\n",
       "      <td>222</td>\n",
       "      <td>18.7</td>\n",
       "      <td>396.90</td>\n",
       "    </tr>\n",
       "  </tbody>\n",
       "</table>\n",
       "</div>"
      ],
      "text/plain": [
       "      crim    zn  indus  chas    nox     rm   age     dis  rad  tax  ptratio  \\\n",
       "0  0.00632  18.0   2.31     0  0.538  6.575  65.2  4.0900    1  296     15.3   \n",
       "1  0.02731   0.0   7.07     0  0.469  6.421  78.9  4.9671    2  242     17.8   \n",
       "2  0.02729   0.0   7.07     0  0.469  7.185  61.1  4.9671    2  242     17.8   \n",
       "3  0.03237   0.0   2.18     0  0.458  6.998  45.8  6.0622    3  222     18.7   \n",
       "4  0.06905   0.0   2.18     0  0.458  7.147  54.2  6.0622    3  222     18.7   \n",
       "\n",
       "    black  \n",
       "0  396.90  \n",
       "1  396.90  \n",
       "2  392.83  \n",
       "3  394.63  \n",
       "4  396.90  "
      ]
     },
     "execution_count": 28,
     "metadata": {},
     "output_type": "execute_result"
    }
   ],
   "source": [
    "X.head()"
   ]
  },
  {
   "cell_type": "code",
   "execution_count": 29,
   "id": "44ae1da1-4b6c-478f-9f18-6765b212a31c",
   "metadata": {},
   "outputs": [],
   "source": [
    "# show head() city.csv"
   ]
  },
  {
   "cell_type": "code",
   "execution_count": 30,
   "id": "2b1256fa-dd8a-489d-a7e7-ffdf9cf50256",
   "metadata": {},
   "outputs": [
    {
     "name": "stdout",
     "output_type": "stream",
     "text": [
      "0    4.98\n",
      "1    9.14\n",
      "2    4.03\n",
      "3    2.94\n",
      "4    5.33\n",
      "Name: lstat, dtype: float64\n"
     ]
    }
   ],
   "source": [
    "print(y[:5])"
   ]
  },
  {
   "cell_type": "code",
   "execution_count": 31,
   "id": "4975336f-d1e6-4faa-a346-9a547284b50b",
   "metadata": {},
   "outputs": [],
   "source": [
    "# show target(y) city.csv"
   ]
  },
  {
   "cell_type": "code",
   "execution_count": 32,
   "id": "78525ea9-0a1d-4d36-b796-e0b8eb3fb25a",
   "metadata": {},
   "outputs": [
    {
     "name": "stdout",
     "output_type": "stream",
     "text": [
      "             crim          zn       indus        chas         nox          rm  \\\n",
      "count  506.000000  506.000000  506.000000  506.000000  506.000000  506.000000   \n",
      "mean     3.613524   11.363636   11.136779    0.069170    0.554695    6.284634   \n",
      "std      8.601545   23.322453    6.860353    0.253994    0.115878    0.702617   \n",
      "min      0.006320    0.000000    0.460000    0.000000    0.385000    3.561000   \n",
      "25%      0.082045    0.000000    5.190000    0.000000    0.449000    5.885500   \n",
      "50%      0.256510    0.000000    9.690000    0.000000    0.538000    6.208500   \n",
      "75%      3.677083   12.500000   18.100000    0.000000    0.624000    6.623500   \n",
      "max     88.976200  100.000000   27.740000    1.000000    0.871000    8.780000   \n",
      "\n",
      "              age         dis         rad         tax     ptratio       black  \n",
      "count  506.000000  506.000000  506.000000  506.000000  506.000000  506.000000  \n",
      "mean    68.574901    3.795043    9.549407  408.237154   18.455534  356.674032  \n",
      "std     28.148861    2.105710    8.707259  168.537116    2.164946   91.294864  \n",
      "min      2.900000    1.129600    1.000000  187.000000   12.600000    0.320000  \n",
      "25%     45.025000    2.100175    4.000000  279.000000   17.400000  375.377500  \n",
      "50%     77.500000    3.207450    5.000000  330.000000   19.050000  391.440000  \n",
      "75%     94.075000    5.188425   24.000000  666.000000   20.200000  396.225000  \n",
      "max    100.000000   12.126500   24.000000  711.000000   22.000000  396.900000  \n"
     ]
    }
   ],
   "source": [
    "print(X.describe())"
   ]
  },
  {
   "cell_type": "code",
   "execution_count": 33,
   "id": "e83f54fd-a021-4b6d-bd43-d64e9e1a4724",
   "metadata": {},
   "outputs": [],
   "source": [
    "# show describe() city.csv"
   ]
  },
  {
   "cell_type": "code",
   "execution_count": 34,
   "id": "7b9a6b6f-b647-4eeb-b523-6630cc18d035",
   "metadata": {},
   "outputs": [],
   "source": [
    "X_train, X_test, y_train, y_test = train_test_split(X, y, test_size=0.2, random_state=42)"
   ]
  },
  {
   "cell_type": "code",
   "execution_count": 35,
   "id": "9a8fd070-d418-4060-928f-dd882dbad147",
   "metadata": {},
   "outputs": [],
   "source": [
    "# train = 0.8, test = 0.2"
   ]
  },
  {
   "cell_type": "code",
   "execution_count": 36,
   "id": "efb8f067-84b1-4edf-bcea-7ad06e6318f9",
   "metadata": {},
   "outputs": [],
   "source": [
    "scaler = MinMaxScaler()"
   ]
  },
  {
   "cell_type": "code",
   "execution_count": 37,
   "id": "86553dc6-d138-4f3f-b9dd-9020fe004eaf",
   "metadata": {},
   "outputs": [],
   "source": [
    "# SkLearn.MinMaxScaler()"
   ]
  },
  {
   "cell_type": "code",
   "execution_count": 38,
   "id": "a631c342-8206-4944-8f5f-e9e639ada10e",
   "metadata": {},
   "outputs": [],
   "source": [
    "X_train_scaled = scaler.fit_transform(X_train)"
   ]
  },
  {
   "cell_type": "code",
   "execution_count": 39,
   "id": "a3be24da-5980-4194-985e-c82dd1fe699e",
   "metadata": {},
   "outputs": [],
   "source": [
    "# transform X_train"
   ]
  },
  {
   "cell_type": "code",
   "execution_count": 40,
   "id": "44dd0957-b826-4336-a1ef-702aac5f938a",
   "metadata": {},
   "outputs": [],
   "source": [
    "X_test_scaled = scaler.transform(X_test)"
   ]
  },
  {
   "cell_type": "code",
   "execution_count": 41,
   "id": "e639a6a4-9511-4d89-8abb-6223d67395dd",
   "metadata": {},
   "outputs": [],
   "source": [
    "# transform X_test"
   ]
  },
  {
   "cell_type": "code",
   "execution_count": 42,
   "id": "0b8cac56-6e1c-4822-bd68-fb1fd1a4e078",
   "metadata": {},
   "outputs": [],
   "source": [
    "X_train_tensor = torch.Tensor(np.array(X_train_scaled))"
   ]
  },
  {
   "cell_type": "code",
   "execution_count": 43,
   "id": "4ddb758f-ef0e-4b03-9c43-9605fe287074",
   "metadata": {},
   "outputs": [],
   "source": [
    "# X_train transform tensor"
   ]
  },
  {
   "cell_type": "code",
   "execution_count": 44,
   "id": "941f92eb-6870-4fcd-8e54-75e05d2289c7",
   "metadata": {},
   "outputs": [],
   "source": [
    "X_test_tensor = torch.Tensor(np.array(X_test_scaled))"
   ]
  },
  {
   "cell_type": "code",
   "execution_count": 45,
   "id": "8ed43725-ef52-49f7-938c-bc326abb52d1",
   "metadata": {},
   "outputs": [],
   "source": [
    "# X_test transform tensor"
   ]
  },
  {
   "cell_type": "code",
   "execution_count": 46,
   "id": "8f2d48c9-1eb4-473e-88f1-1ca886e9ce1f",
   "metadata": {},
   "outputs": [],
   "source": [
    "y_train_tensor = torch.Tensor(np.array(y_train))"
   ]
  },
  {
   "cell_type": "code",
   "execution_count": 47,
   "id": "57d93504-53ff-4563-b8c2-146a4d745284",
   "metadata": {},
   "outputs": [],
   "source": [
    "# y_train transform tensor"
   ]
  },
  {
   "cell_type": "code",
   "execution_count": 48,
   "id": "197f055b-5fc2-4ccf-b37c-9959a2d3512a",
   "metadata": {},
   "outputs": [],
   "source": [
    "y_test_tensor = torch.Tensor(np.array(y_test))"
   ]
  },
  {
   "cell_type": "code",
   "execution_count": 49,
   "id": "c1a68a99-3698-40cb-8fe9-abe17d26c3b4",
   "metadata": {},
   "outputs": [],
   "source": [
    "# y_test transform tensor"
   ]
  },
  {
   "cell_type": "code",
   "execution_count": 50,
   "id": "6168c384-3068-4c1a-a895-95ae0b98d1c5",
   "metadata": {},
   "outputs": [],
   "source": [
    "n_data, n_features = X_train_tensor.shape"
   ]
  },
  {
   "cell_type": "code",
   "execution_count": 51,
   "id": "7dab8675-0c29-4d6c-adc9-cf50851db83a",
   "metadata": {},
   "outputs": [],
   "source": [
    "# show shape() n_data, n_features"
   ]
  },
  {
   "cell_type": "code",
   "execution_count": 52,
   "id": "d2992d8f-c470-4940-a1f1-50d72fbaa3fd",
   "metadata": {},
   "outputs": [
    {
     "name": "stdout",
     "output_type": "stream",
     "text": [
      "404\n"
     ]
    }
   ],
   "source": [
    "print(n_data)"
   ]
  },
  {
   "cell_type": "code",
   "execution_count": 53,
   "id": "18b571c6-a247-4495-899f-0abb8c2279ad",
   "metadata": {},
   "outputs": [],
   "source": [
    "# show shape() n_data"
   ]
  },
  {
   "cell_type": "code",
   "execution_count": 54,
   "id": "aad49b29-144d-4e7a-a46f-87d49912b5c8",
   "metadata": {},
   "outputs": [
    {
     "name": "stdout",
     "output_type": "stream",
     "text": [
      "12\n"
     ]
    }
   ],
   "source": [
    "print(n_features)"
   ]
  },
  {
   "cell_type": "code",
   "execution_count": 55,
   "id": "ccc0fdc1-68e2-47ff-8139-524937902b01",
   "metadata": {},
   "outputs": [],
   "source": [
    "# show shape() n_features"
   ]
  },
  {
   "cell_type": "code",
   "execution_count": 56,
   "id": "ed52cc44-c36c-4643-875d-1d16440f75f4",
   "metadata": {},
   "outputs": [],
   "source": [
    "def loss(mean, target):\n",
    "    \"\"\"function loss\"\"\"\n",
    "    return mean(F.l1_loss(input, target, reduction=\"none\") / target) * 100"
   ]
  },
  {
   "cell_type": "code",
   "execution_count": 57,
   "id": "2848a017-d89b-4042-be33-0dc52f0ac30a",
   "metadata": {},
   "outputs": [],
   "source": [
    "# function loss"
   ]
  },
  {
   "cell_type": "code",
   "execution_count": 58,
   "id": "180a514b-f2b4-44b6-b059-c7014569b5de",
   "metadata": {},
   "outputs": [],
   "source": [
    "loss_func = F.mse_loss"
   ]
  },
  {
   "cell_type": "code",
   "execution_count": 59,
   "id": "0c33258e-160e-46b8-b8cb-90be228e1487",
   "metadata": {},
   "outputs": [],
   "source": [
    "# loss_func"
   ]
  },
  {
   "cell_type": "code",
   "execution_count": 60,
   "id": "6ee9a9e9-06c4-4919-a319-4f7f9d94ba36",
   "metadata": {},
   "outputs": [],
   "source": [
    "metrics_func_1 = [loss_func, loss]"
   ]
  },
  {
   "cell_type": "code",
   "execution_count": 61,
   "id": "c9984952-718d-4f9e-a016-295fe61413ba",
   "metadata": {},
   "outputs": [],
   "source": [
    "# metrics_func_1"
   ]
  },
  {
   "cell_type": "code",
   "execution_count": 62,
   "id": "bf465c27-9261-4e9d-a27e-da55ed6b3054",
   "metadata": {},
   "outputs": [],
   "source": [
    "metrics_name = [\"MSE\", \"LOSS\"]"
   ]
  },
  {
   "cell_type": "code",
   "execution_count": 63,
   "id": "5ca3ce85-434f-4fc6-82e9-495946a6d162",
   "metadata": {},
   "outputs": [],
   "source": [
    "# metrics_name"
   ]
  },
  {
   "cell_type": "code",
   "execution_count": 64,
   "id": "4aac2548-8a6b-46fe-8b05-a07306065c3d",
   "metadata": {},
   "outputs": [],
   "source": [
    "def evaluate(model, metrics_func, x_1, y_1):\n",
    "    \"\"\"function evaluate\"\"\"\n",
    "    metrics_value = []\n",
    "    with torch.no_grad():\n",
    "        for metric_func in metrics_func:\n",
    "            metric_value = metric_func(torch.Tensor(X).flatten(), torch.Tensor(y).flatten())\n",
    "            metrics_value.append(metric_value)\n",
    "    return metrics_value"
   ]
  },
  {
   "cell_type": "code",
   "execution_count": 65,
   "id": "f5bb5b2e-8eef-4a33-84b7-0e1f4a2bb398",
   "metadata": {},
   "outputs": [],
   "source": [
    "# function evaluate"
   ]
  },
  {
   "cell_type": "code",
   "execution_count": 66,
   "id": "239fc162-f81e-4bc8-a99b-e3df8cfc22f5",
   "metadata": {},
   "outputs": [],
   "source": [
    "def print_metrics(models, train_data, test_data, models_name):\n",
    "    \"\"\"function print_metrics\"\"\"\n",
    "    results = np.ones(2 * len(models), len(metrics_func_1))\n",
    "    models_name = []\n",
    "    for model in models_name:\n",
    "        models_name.extend([model + \"Train\", model + \"Test\"])\n",
    "    for row, sample in enumerate([train_data, test_data]):\n",
    "        results[row + sample * 2] = evaluate(models, metrics_func_1, sample[0], sample[1])\n",
    "        results = pd.DataFrame(results, columns=metrics_name, index=models_name)\n",
    "        return results"
   ]
  },
  {
   "cell_type": "code",
   "execution_count": 67,
   "id": "a79c9f19-af5c-4268-a3e5-ebbc6239e63f",
   "metadata": {},
   "outputs": [],
   "source": [
    "# function print_metrics"
   ]
  },
  {
   "cell_type": "code",
   "execution_count": 68,
   "id": "b7389b28-1661-45ca-8fd1-90b930ab62f4",
   "metadata": {},
   "outputs": [],
   "source": [
    "train_data_1 = (X_train_tensor, y_train_tensor)"
   ]
  },
  {
   "cell_type": "code",
   "execution_count": 69,
   "id": "724b8fb1-5225-495b-9b3d-71f76b25817e",
   "metadata": {},
   "outputs": [],
   "source": [
    "# train_data_1"
   ]
  },
  {
   "cell_type": "code",
   "execution_count": 70,
   "id": "e20d6051-8270-4c4d-b502-951eef8cf7cf",
   "metadata": {},
   "outputs": [],
   "source": [
    "test_data_1 = (X_test_tensor, y_test_tensor)"
   ]
  },
  {
   "cell_type": "code",
   "execution_count": 71,
   "id": "0b873075-3fbe-4249-923f-66fde89bfbf0",
   "metadata": {},
   "outputs": [],
   "source": [
    "# test_data_1"
   ]
  },
  {
   "cell_type": "code",
   "execution_count": 72,
   "id": "db8b0472-f730-4895-b339-c0834442eee7",
   "metadata": {},
   "outputs": [],
   "source": [
    "model_lr_sklearn = LinearRegression()"
   ]
  },
  {
   "cell_type": "code",
   "execution_count": 73,
   "id": "d7342cbb-e41e-4077-8779-1e9803dabdcb",
   "metadata": {},
   "outputs": [],
   "source": [
    "# SkLearn.LinearRegression()"
   ]
  },
  {
   "cell_type": "code",
   "execution_count": 74,
   "id": "a8b6379f-9c98-4bd6-aa94-bfe94625ee72",
   "metadata": {},
   "outputs": [
    {
     "data": {
      "text/html": [
       "<style>#sk-container-id-1 {color: black;}#sk-container-id-1 pre{padding: 0;}#sk-container-id-1 div.sk-toggleable {background-color: white;}#sk-container-id-1 label.sk-toggleable__label {cursor: pointer;display: block;width: 100%;margin-bottom: 0;padding: 0.3em;box-sizing: border-box;text-align: center;}#sk-container-id-1 label.sk-toggleable__label-arrow:before {content: \"▸\";float: left;margin-right: 0.25em;color: #696969;}#sk-container-id-1 label.sk-toggleable__label-arrow:hover:before {color: black;}#sk-container-id-1 div.sk-estimator:hover label.sk-toggleable__label-arrow:before {color: black;}#sk-container-id-1 div.sk-toggleable__content {max-height: 0;max-width: 0;overflow: hidden;text-align: left;background-color: #f0f8ff;}#sk-container-id-1 div.sk-toggleable__content pre {margin: 0.2em;color: black;border-radius: 0.25em;background-color: #f0f8ff;}#sk-container-id-1 input.sk-toggleable__control:checked~div.sk-toggleable__content {max-height: 200px;max-width: 100%;overflow: auto;}#sk-container-id-1 input.sk-toggleable__control:checked~label.sk-toggleable__label-arrow:before {content: \"▾\";}#sk-container-id-1 div.sk-estimator input.sk-toggleable__control:checked~label.sk-toggleable__label {background-color: #d4ebff;}#sk-container-id-1 div.sk-label input.sk-toggleable__control:checked~label.sk-toggleable__label {background-color: #d4ebff;}#sk-container-id-1 input.sk-hidden--visually {border: 0;clip: rect(1px 1px 1px 1px);clip: rect(1px, 1px, 1px, 1px);height: 1px;margin: -1px;overflow: hidden;padding: 0;position: absolute;width: 1px;}#sk-container-id-1 div.sk-estimator {font-family: monospace;background-color: #f0f8ff;border: 1px dotted black;border-radius: 0.25em;box-sizing: border-box;margin-bottom: 0.5em;}#sk-container-id-1 div.sk-estimator:hover {background-color: #d4ebff;}#sk-container-id-1 div.sk-parallel-item::after {content: \"\";width: 100%;border-bottom: 1px solid gray;flex-grow: 1;}#sk-container-id-1 div.sk-label:hover label.sk-toggleable__label {background-color: #d4ebff;}#sk-container-id-1 div.sk-serial::before {content: \"\";position: absolute;border-left: 1px solid gray;box-sizing: border-box;top: 0;bottom: 0;left: 50%;z-index: 0;}#sk-container-id-1 div.sk-serial {display: flex;flex-direction: column;align-items: center;background-color: white;padding-right: 0.2em;padding-left: 0.2em;position: relative;}#sk-container-id-1 div.sk-item {position: relative;z-index: 1;}#sk-container-id-1 div.sk-parallel {display: flex;align-items: stretch;justify-content: center;background-color: white;position: relative;}#sk-container-id-1 div.sk-item::before, #sk-container-id-1 div.sk-parallel-item::before {content: \"\";position: absolute;border-left: 1px solid gray;box-sizing: border-box;top: 0;bottom: 0;left: 50%;z-index: -1;}#sk-container-id-1 div.sk-parallel-item {display: flex;flex-direction: column;z-index: 1;position: relative;background-color: white;}#sk-container-id-1 div.sk-parallel-item:first-child::after {align-self: flex-end;width: 50%;}#sk-container-id-1 div.sk-parallel-item:last-child::after {align-self: flex-start;width: 50%;}#sk-container-id-1 div.sk-parallel-item:only-child::after {width: 0;}#sk-container-id-1 div.sk-dashed-wrapped {border: 1px dashed gray;margin: 0 0.4em 0.5em 0.4em;box-sizing: border-box;padding-bottom: 0.4em;background-color: white;}#sk-container-id-1 div.sk-label label {font-family: monospace;font-weight: bold;display: inline-block;line-height: 1.2em;}#sk-container-id-1 div.sk-label-container {text-align: center;}#sk-container-id-1 div.sk-container {/* jupyter's `normalize.less` sets `[hidden] { display: none; }` but bootstrap.min.css set `[hidden] { display: none !important; }` so we also need the `!important` here to be able to override the default hidden behavior on the sphinx rendered scikit-learn.org. See: https://github.com/scikit-learn/scikit-learn/issues/21755 */display: inline-block !important;position: relative;}#sk-container-id-1 div.sk-text-repr-fallback {display: none;}</style><div id=\"sk-container-id-1\" class=\"sk-top-container\"><div class=\"sk-text-repr-fallback\"><pre>LinearRegression()</pre><b>In a Jupyter environment, please rerun this cell to show the HTML representation or trust the notebook. <br />On GitHub, the HTML representation is unable to render, please try loading this page with nbviewer.org.</b></div><div class=\"sk-container\" hidden><div class=\"sk-item\"><div class=\"sk-estimator sk-toggleable\"><input class=\"sk-toggleable__control sk-hidden--visually\" id=\"sk-estimator-id-1\" type=\"checkbox\" checked><label for=\"sk-estimator-id-1\" class=\"sk-toggleable__label sk-toggleable__label-arrow\">LinearRegression</label><div class=\"sk-toggleable__content\"><pre>LinearRegression()</pre></div></div></div></div></div>"
      ],
      "text/plain": [
       "LinearRegression()"
      ]
     },
     "execution_count": 74,
     "metadata": {},
     "output_type": "execute_result"
    }
   ],
   "source": [
    "model_lr_sklearn.fit(X_train_scaled, y_train)"
   ]
  },
  {
   "cell_type": "code",
   "execution_count": 75,
   "id": "5a592fb1-cacd-4157-bea8-0e2c510010e5",
   "metadata": {},
   "outputs": [],
   "source": [
    "# SkLearn.LinearRegression()"
   ]
  },
  {
   "cell_type": "code",
   "execution_count": 76,
   "id": "d45c513a-0913-4c25-a2ea-7b94d7e6a937",
   "metadata": {},
   "outputs": [],
   "source": [
    "model_1 = [model_lr_sklearn.predict]"
   ]
  },
  {
   "cell_type": "code",
   "execution_count": 77,
   "id": "fe450683-59ef-4dd3-b1ef-1419bad95364",
   "metadata": {},
   "outputs": [],
   "source": [
    "# model_lr_sklearn.predict"
   ]
  },
  {
   "cell_type": "code",
   "execution_count": 78,
   "id": "aacca05f-1282-4fb1-9d8a-054f7eeb9da9",
   "metadata": {},
   "outputs": [],
   "source": [
    "metrics_name = [\"MSE\", \"LOSS\"]"
   ]
  },
  {
   "cell_type": "code",
   "execution_count": 79,
   "id": "da7a3539-63f1-4646-986a-44fbd60495dd",
   "metadata": {},
   "outputs": [],
   "source": [
    "# metrics_name"
   ]
  },
  {
   "cell_type": "code",
   "execution_count": 80,
   "id": "d411b1fe-d76b-4147-a3b1-8ae6ff346b6f",
   "metadata": {},
   "outputs": [],
   "source": [
    "models_name_1 = [\"LOSS\"]"
   ]
  },
  {
   "cell_type": "code",
   "execution_count": 81,
   "id": "723d0bdd-43ac-44a1-9de3-0c6b9aecb72e",
   "metadata": {},
   "outputs": [],
   "source": [
    "# loss"
   ]
  },
  {
   "cell_type": "code",
   "execution_count": 82,
   "id": "20b5fc95-b9d2-4a03-baeb-d13e31dd467e",
   "metadata": {},
   "outputs": [],
   "source": [
    "model_lr = nn.Sequential(\n",
    "    nn.Linear(in_features=n_features,\n",
    "    out_features=1))"
   ]
  },
  {
   "cell_type": "code",
   "execution_count": 83,
   "id": "1b96d0a1-442a-4bea-a5b3-c3c9b4b6a545",
   "metadata": {},
   "outputs": [],
   "source": [
    "# torch model_lr"
   ]
  },
  {
   "cell_type": "code",
   "execution_count": 84,
   "id": "44e01d7b-feed-4426-a0a6-e5fedb0a36a2",
   "metadata": {},
   "outputs": [
    {
     "name": "stdout",
     "output_type": "stream",
     "text": [
      "Sequential(\n",
      "  (0): Linear(in_features=12, out_features=1, bias=True)\n",
      ")\n"
     ]
    }
   ],
   "source": [
    "print(model_lr)"
   ]
  },
  {
   "cell_type": "code",
   "execution_count": 85,
   "id": "922960da-7896-4b2b-bcc7-906557211361",
   "metadata": {},
   "outputs": [],
   "source": [
    "# torch model_lr"
   ]
  },
  {
   "cell_type": "code",
   "execution_count": 86,
   "id": "1c6e4b82-5761-4c21-946d-0bee455569c6",
   "metadata": {},
   "outputs": [],
   "source": [
    "opt_lr = optim.SGD(params=model_lr.parameters(), lr=0.001)"
   ]
  },
  {
   "cell_type": "code",
   "execution_count": 87,
   "id": "dd70d2db-3306-4929-ba5b-444c71f888ad",
   "metadata": {},
   "outputs": [],
   "source": [
    "# torch.optim model_lr"
   ]
  },
  {
   "cell_type": "code",
   "execution_count": 88,
   "id": "d64a4143-4c2b-4000-8ae5-d81664d0b1ad",
   "metadata": {},
   "outputs": [],
   "source": [
    "BATCH_SIZE_LR = 16"
   ]
  },
  {
   "cell_type": "code",
   "execution_count": 89,
   "id": "b46b8838-8665-4d96-8dfb-ce2d3c00dc8d",
   "metadata": {},
   "outputs": [],
   "source": [
    "# torch batch"
   ]
  },
  {
   "cell_type": "code",
   "execution_count": 90,
   "id": "b2973558-1b94-4ab1-b354-a8d888624427",
   "metadata": {},
   "outputs": [],
   "source": [
    "EPOCHS_LR = 1000"
   ]
  },
  {
   "cell_type": "code",
   "execution_count": 91,
   "id": "fd3aba87-0494-4add-8530-071d190d7842",
   "metadata": {},
   "outputs": [],
   "source": [
    "# torch epochs"
   ]
  },
  {
   "cell_type": "code",
   "execution_count": 92,
   "id": "bd81943e-d9ab-42a4-a470-06b94cc7b01a",
   "metadata": {},
   "outputs": [
    {
     "name": "stderr",
     "output_type": "stream",
     "text": [
      "100%|█████████████████████████████████████| 1000/1000 [00:00<00:00, 1998.59it/s]\n"
     ]
    }
   ],
   "source": [
    "for epoch in tqdm.trange(EPOCHS_LR):\n",
    "    for i in range((n_data - 1) // BATCH_SIZE_LR + 1):\n",
    "        start_i = i * BATCH_SIZE_LR\n",
    "        end_i = start_i + BATCH_SIZE_LR\n",
    "        Xb = X_train_tensor[start_i: end_i]\n",
    "        yb = y_train_tensor[start_i: end_i]\n",
    "        pred = yb\n",
    "        loss_1 = loss_func(pred, yb + 1)"
   ]
  },
  {
   "cell_type": "code",
   "execution_count": 93,
   "id": "62e650fe-859a-46df-8502-d9104d98ac19",
   "metadata": {},
   "outputs": [],
   "source": [
    "# for epoch in tqdm.trange(EPOCHS_LR)"
   ]
  },
  {
   "cell_type": "code",
   "execution_count": 94,
   "id": "f5496cff-10f3-4a32-a507-37d2783fcca9",
   "metadata": {},
   "outputs": [
    {
     "name": "stdout",
     "output_type": "stream",
     "text": [
      "         crim    zn  indus  chas    nox     rm    age     dis  rad  tax  \\\n",
      "173   0.09178   0.0   4.05     0  0.510  6.416   84.1  2.6463    5  296   \n",
      "274   0.05644  40.0   6.41     1  0.447  6.758   32.9  4.0776    4  254   \n",
      "491   0.10574   0.0  27.74     0  0.609  5.983   98.8  1.8681    4  711   \n",
      "72    0.09164   0.0  10.81     0  0.413  6.065    7.8  5.2873    4  305   \n",
      "452   5.09017   0.0  18.10     0  0.713  6.297   91.8  2.3682   24  666   \n",
      "..        ...   ...    ...   ...    ...    ...    ...     ...  ...  ...   \n",
      "412  18.81100   0.0  18.10     0  0.597  4.628  100.0  1.5539   24  666   \n",
      "436  14.42080   0.0  18.10     0  0.740  6.461   93.3  2.0026   24  666   \n",
      "411  14.05070   0.0  18.10     0  0.597  6.657  100.0  1.5275   24  666   \n",
      "86    0.05188   0.0   4.49     0  0.449  6.015   45.1  4.4272    3  247   \n",
      "75    0.09512   0.0  12.83     0  0.437  6.286   45.0  4.5026    5  398   \n",
      "\n",
      "     ptratio   black  \n",
      "173     16.6  395.50  \n",
      "274     17.6  396.90  \n",
      "491     20.1  390.11  \n",
      "72      19.2  390.91  \n",
      "452     20.2  385.09  \n",
      "..       ...     ...  \n",
      "412     20.2   28.79  \n",
      "436     20.2   27.49  \n",
      "411     20.2   35.05  \n",
      "86      18.5  395.99  \n",
      "75      18.7  383.23  \n",
      "\n",
      "[102 rows x 12 columns]\n"
     ]
    }
   ],
   "source": [
    "print(X_test)"
   ]
  },
  {
   "cell_type": "code",
   "execution_count": 95,
   "id": "b88b0b90-4b76-4b9a-87f0-f51459ef5f23",
   "metadata": {},
   "outputs": [
    {
     "data": {
      "text/html": [
       "<div>\n",
       "<style scoped>\n",
       "    .dataframe tbody tr th:only-of-type {\n",
       "        vertical-align: middle;\n",
       "    }\n",
       "\n",
       "    .dataframe tbody tr th {\n",
       "        vertical-align: top;\n",
       "    }\n",
       "\n",
       "    .dataframe thead th {\n",
       "        text-align: right;\n",
       "    }\n",
       "</style>\n",
       "<table border=\"1\" class=\"dataframe\">\n",
       "  <thead>\n",
       "    <tr style=\"text-align: right;\">\n",
       "      <th></th>\n",
       "      <th>crim</th>\n",
       "      <th>zn</th>\n",
       "      <th>indus</th>\n",
       "      <th>chas</th>\n",
       "      <th>nox</th>\n",
       "      <th>rm</th>\n",
       "      <th>age</th>\n",
       "      <th>dis</th>\n",
       "      <th>rad</th>\n",
       "      <th>tax</th>\n",
       "      <th>ptratio</th>\n",
       "      <th>black</th>\n",
       "    </tr>\n",
       "  </thead>\n",
       "  <tbody>\n",
       "    <tr>\n",
       "      <th>173</th>\n",
       "      <td>0.09178</td>\n",
       "      <td>0.0</td>\n",
       "      <td>4.05</td>\n",
       "      <td>0</td>\n",
       "      <td>0.510</td>\n",
       "      <td>6.416</td>\n",
       "      <td>84.1</td>\n",
       "      <td>2.6463</td>\n",
       "      <td>5</td>\n",
       "      <td>296</td>\n",
       "      <td>16.6</td>\n",
       "      <td>395.50</td>\n",
       "    </tr>\n",
       "    <tr>\n",
       "      <th>274</th>\n",
       "      <td>0.05644</td>\n",
       "      <td>40.0</td>\n",
       "      <td>6.41</td>\n",
       "      <td>1</td>\n",
       "      <td>0.447</td>\n",
       "      <td>6.758</td>\n",
       "      <td>32.9</td>\n",
       "      <td>4.0776</td>\n",
       "      <td>4</td>\n",
       "      <td>254</td>\n",
       "      <td>17.6</td>\n",
       "      <td>396.90</td>\n",
       "    </tr>\n",
       "    <tr>\n",
       "      <th>491</th>\n",
       "      <td>0.10574</td>\n",
       "      <td>0.0</td>\n",
       "      <td>27.74</td>\n",
       "      <td>0</td>\n",
       "      <td>0.609</td>\n",
       "      <td>5.983</td>\n",
       "      <td>98.8</td>\n",
       "      <td>1.8681</td>\n",
       "      <td>4</td>\n",
       "      <td>711</td>\n",
       "      <td>20.1</td>\n",
       "      <td>390.11</td>\n",
       "    </tr>\n",
       "    <tr>\n",
       "      <th>72</th>\n",
       "      <td>0.09164</td>\n",
       "      <td>0.0</td>\n",
       "      <td>10.81</td>\n",
       "      <td>0</td>\n",
       "      <td>0.413</td>\n",
       "      <td>6.065</td>\n",
       "      <td>7.8</td>\n",
       "      <td>5.2873</td>\n",
       "      <td>4</td>\n",
       "      <td>305</td>\n",
       "      <td>19.2</td>\n",
       "      <td>390.91</td>\n",
       "    </tr>\n",
       "    <tr>\n",
       "      <th>452</th>\n",
       "      <td>5.09017</td>\n",
       "      <td>0.0</td>\n",
       "      <td>18.10</td>\n",
       "      <td>0</td>\n",
       "      <td>0.713</td>\n",
       "      <td>6.297</td>\n",
       "      <td>91.8</td>\n",
       "      <td>2.3682</td>\n",
       "      <td>24</td>\n",
       "      <td>666</td>\n",
       "      <td>20.2</td>\n",
       "      <td>385.09</td>\n",
       "    </tr>\n",
       "    <tr>\n",
       "      <th>...</th>\n",
       "      <td>...</td>\n",
       "      <td>...</td>\n",
       "      <td>...</td>\n",
       "      <td>...</td>\n",
       "      <td>...</td>\n",
       "      <td>...</td>\n",
       "      <td>...</td>\n",
       "      <td>...</td>\n",
       "      <td>...</td>\n",
       "      <td>...</td>\n",
       "      <td>...</td>\n",
       "      <td>...</td>\n",
       "    </tr>\n",
       "    <tr>\n",
       "      <th>412</th>\n",
       "      <td>18.81100</td>\n",
       "      <td>0.0</td>\n",
       "      <td>18.10</td>\n",
       "      <td>0</td>\n",
       "      <td>0.597</td>\n",
       "      <td>4.628</td>\n",
       "      <td>100.0</td>\n",
       "      <td>1.5539</td>\n",
       "      <td>24</td>\n",
       "      <td>666</td>\n",
       "      <td>20.2</td>\n",
       "      <td>28.79</td>\n",
       "    </tr>\n",
       "    <tr>\n",
       "      <th>436</th>\n",
       "      <td>14.42080</td>\n",
       "      <td>0.0</td>\n",
       "      <td>18.10</td>\n",
       "      <td>0</td>\n",
       "      <td>0.740</td>\n",
       "      <td>6.461</td>\n",
       "      <td>93.3</td>\n",
       "      <td>2.0026</td>\n",
       "      <td>24</td>\n",
       "      <td>666</td>\n",
       "      <td>20.2</td>\n",
       "      <td>27.49</td>\n",
       "    </tr>\n",
       "    <tr>\n",
       "      <th>411</th>\n",
       "      <td>14.05070</td>\n",
       "      <td>0.0</td>\n",
       "      <td>18.10</td>\n",
       "      <td>0</td>\n",
       "      <td>0.597</td>\n",
       "      <td>6.657</td>\n",
       "      <td>100.0</td>\n",
       "      <td>1.5275</td>\n",
       "      <td>24</td>\n",
       "      <td>666</td>\n",
       "      <td>20.2</td>\n",
       "      <td>35.05</td>\n",
       "    </tr>\n",
       "    <tr>\n",
       "      <th>86</th>\n",
       "      <td>0.05188</td>\n",
       "      <td>0.0</td>\n",
       "      <td>4.49</td>\n",
       "      <td>0</td>\n",
       "      <td>0.449</td>\n",
       "      <td>6.015</td>\n",
       "      <td>45.1</td>\n",
       "      <td>4.4272</td>\n",
       "      <td>3</td>\n",
       "      <td>247</td>\n",
       "      <td>18.5</td>\n",
       "      <td>395.99</td>\n",
       "    </tr>\n",
       "    <tr>\n",
       "      <th>75</th>\n",
       "      <td>0.09512</td>\n",
       "      <td>0.0</td>\n",
       "      <td>12.83</td>\n",
       "      <td>0</td>\n",
       "      <td>0.437</td>\n",
       "      <td>6.286</td>\n",
       "      <td>45.0</td>\n",
       "      <td>4.5026</td>\n",
       "      <td>5</td>\n",
       "      <td>398</td>\n",
       "      <td>18.7</td>\n",
       "      <td>383.23</td>\n",
       "    </tr>\n",
       "  </tbody>\n",
       "</table>\n",
       "<p>102 rows × 12 columns</p>\n",
       "</div>"
      ],
      "text/plain": [
       "         crim    zn  indus  chas    nox     rm    age     dis  rad  tax  \\\n",
       "173   0.09178   0.0   4.05     0  0.510  6.416   84.1  2.6463    5  296   \n",
       "274   0.05644  40.0   6.41     1  0.447  6.758   32.9  4.0776    4  254   \n",
       "491   0.10574   0.0  27.74     0  0.609  5.983   98.8  1.8681    4  711   \n",
       "72    0.09164   0.0  10.81     0  0.413  6.065    7.8  5.2873    4  305   \n",
       "452   5.09017   0.0  18.10     0  0.713  6.297   91.8  2.3682   24  666   \n",
       "..        ...   ...    ...   ...    ...    ...    ...     ...  ...  ...   \n",
       "412  18.81100   0.0  18.10     0  0.597  4.628  100.0  1.5539   24  666   \n",
       "436  14.42080   0.0  18.10     0  0.740  6.461   93.3  2.0026   24  666   \n",
       "411  14.05070   0.0  18.10     0  0.597  6.657  100.0  1.5275   24  666   \n",
       "86    0.05188   0.0   4.49     0  0.449  6.015   45.1  4.4272    3  247   \n",
       "75    0.09512   0.0  12.83     0  0.437  6.286   45.0  4.5026    5  398   \n",
       "\n",
       "     ptratio   black  \n",
       "173     16.6  395.50  \n",
       "274     17.6  396.90  \n",
       "491     20.1  390.11  \n",
       "72      19.2  390.91  \n",
       "452     20.2  385.09  \n",
       "..       ...     ...  \n",
       "412     20.2   28.79  \n",
       "436     20.2   27.49  \n",
       "411     20.2   35.05  \n",
       "86      18.5  395.99  \n",
       "75      18.7  383.23  \n",
       "\n",
       "[102 rows x 12 columns]"
      ]
     },
     "execution_count": 95,
     "metadata": {},
     "output_type": "execute_result"
    }
   ],
   "source": [
    "X_test"
   ]
  },
  {
   "cell_type": "code",
   "execution_count": 96,
   "id": "499832ea-e02f-42eb-8dd6-c9ee12e85510",
   "metadata": {},
   "outputs": [
    {
     "name": "stdout",
     "output_type": "stream",
     "text": [
      "173     9.04\n",
      "274     3.53\n",
      "491    18.07\n",
      "72      5.52\n",
      "452    17.27\n",
      "       ...  \n",
      "412    34.37\n",
      "436    18.05\n",
      "411    21.22\n",
      "86     12.86\n",
      "75      8.94\n",
      "Name: lstat, Length: 102, dtype: float64\n"
     ]
    }
   ],
   "source": [
    "print(y_test)"
   ]
  },
  {
   "cell_type": "code",
   "execution_count": 97,
   "id": "fd587d38-9e4b-4ee6-90f8-1a08c16b6584",
   "metadata": {},
   "outputs": [],
   "source": [
    "# y_test"
   ]
  },
  {
   "cell_type": "code",
   "execution_count": 98,
   "id": "c1041996-8ea0-4c89-a687-8c0ee4b32c52",
   "metadata": {},
   "outputs": [],
   "source": [
    "def train(model_lr, loss_fn, optimizer):\n",
    "    \"\"\"function train\"\"\"\n",
    "    size = len('city.csv')\n",
    "    model_lr.train()\n",
    "    for BATCH_SIZE_LR, (X, y) in tqdm.trange(EPOCHS_LR):\n",
    "        X, y = X.to_device, y.to_device\n",
    "        pred_1 = model_lr(X)\n",
    "        loss = loss_fn(pred_1, y)\n",
    "        optimizer.zero_grad()\n",
    "        loss.backward()\n",
    "        optimizer.step()\n",
    "        if BATCH_SIZE_LR % 16 == 0:\n",
    "            loss_2 = loss.iten(), BATCH_SIZE_LR * len(X)\n",
    "            print(f'loss: {loss_2}')"
   ]
  },
  {
   "cell_type": "code",
   "execution_count": 99,
   "id": "bddf3542-733f-462b-a19a-9b0b41471372",
   "metadata": {},
   "outputs": [],
   "source": [
    "# function train"
   ]
  },
  {
   "cell_type": "code",
   "execution_count": 100,
   "id": "a6f8a6d1-5a03-46b1-8d4b-361aab07e62a",
   "metadata": {},
   "outputs": [
    {
     "name": "stdout",
     "output_type": "stream",
     "text": [
      "tensor([[0.3702]])\n"
     ]
    }
   ],
   "source": [
    "with torch.no_grad():\n",
    "    print(model_lr(X_test_tensor[-1:]))"
   ]
  },
  {
   "cell_type": "code",
   "execution_count": 101,
   "id": "29dc2eec-da70-42c6-bad6-80d5608c99d1",
   "metadata": {},
   "outputs": [],
   "source": [
    "# X_test_tensor[-1:]"
   ]
  },
  {
   "cell_type": "code",
   "execution_count": 102,
   "id": "37bcad97-5fa3-49cf-be90-17b0d4f78e8a",
   "metadata": {},
   "outputs": [],
   "source": [
    "x_t = torch.Tensor([0.5141, 0.0000, 0.6430, 0.0000, 0.6337, 0.1334, 1.0000, 0.0481, 1.0000,\n",
    "        0.9141, 0.8085, 0.2218])"
   ]
  },
  {
   "cell_type": "code",
   "execution_count": 103,
   "id": "1615fbb8-d9eb-426e-a62e-5ee7c8ecb066",
   "metadata": {},
   "outputs": [],
   "source": [
    "# x_t"
   ]
  },
  {
   "cell_type": "code",
   "execution_count": 104,
   "id": "81cf49ce-a025-44e5-94a1-10c7a470a256",
   "metadata": {},
   "outputs": [
    {
     "name": "stdout",
     "output_type": "stream",
     "text": [
      "tensor([0.3943])\n"
     ]
    }
   ],
   "source": [
    "with torch.no_grad():\n",
    "  print(model_lr(x_t))"
   ]
  },
  {
   "cell_type": "code",
   "execution_count": 105,
   "id": "0e811516-a0c0-4fc7-b0c5-ba03544c976e",
   "metadata": {},
   "outputs": [],
   "source": [
    "# x_t"
   ]
  },
  {
   "cell_type": "code",
   "execution_count": 106,
   "id": "9a41e2df-1d57-4ccf-b9af-7c642d588cd6",
   "metadata": {},
   "outputs": [],
   "source": [
    "torch.save(model_lr, \"lr.pth\")"
   ]
  },
  {
   "cell_type": "code",
   "execution_count": 107,
   "id": "0e84e93e-ff9c-4123-829d-c083aaf4272b",
   "metadata": {},
   "outputs": [],
   "source": [
    "# torch.save(model_lr)"
   ]
  },
  {
   "cell_type": "code",
   "execution_count": 108,
   "id": "ea3d0adb-6cc1-4ea1-a06c-d1bf48ee3388",
   "metadata": {},
   "outputs": [],
   "source": [
    "model_lr_1 = nn.Sequential(\n",
    "    nn.Linear(in_features=n_features, out_features=16),\n",
    "    nn.ReLU(),\n",
    "    nn.Linear(in_features=16, out_features=32),\n",
    "    nn.ReLU(),\n",
    "    nn.Linear(in_features=32, out_features=32),\n",
    "    nn.ReLU(),\n",
    "    nn.Linear(in_features=32, out_features=1))"
   ]
  },
  {
   "cell_type": "code",
   "execution_count": 109,
   "id": "18d55f48-d340-44d3-9be1-28830b02a9b9",
   "metadata": {},
   "outputs": [],
   "source": [
    "# torch model_lr_1"
   ]
  },
  {
   "cell_type": "code",
   "execution_count": 110,
   "id": "6031227a-4489-4b4d-9b43-88163919841e",
   "metadata": {},
   "outputs": [
    {
     "name": "stdout",
     "output_type": "stream",
     "text": [
      "Sequential(\n",
      "  (0): Linear(in_features=12, out_features=16, bias=True)\n",
      "  (1): ReLU()\n",
      "  (2): Linear(in_features=16, out_features=32, bias=True)\n",
      "  (3): ReLU()\n",
      "  (4): Linear(in_features=32, out_features=32, bias=True)\n",
      "  (5): ReLU()\n",
      "  (6): Linear(in_features=32, out_features=1, bias=True)\n",
      ")\n"
     ]
    }
   ],
   "source": [
    "print(model_lr_1)"
   ]
  },
  {
   "cell_type": "code",
   "execution_count": 111,
   "id": "83c4f857-174c-40b1-a216-9d28381b9a20",
   "metadata": {},
   "outputs": [],
   "source": [
    "# torch model_lr_1"
   ]
  },
  {
   "cell_type": "code",
   "execution_count": 112,
   "id": "c343d74d-f14c-4fd8-9170-4995837b6e6f",
   "metadata": {},
   "outputs": [],
   "source": [
    "opt_lr_1 = optim.SGD(params=model_lr_1.parameters(), lr=0.0001)"
   ]
  },
  {
   "cell_type": "code",
   "execution_count": 113,
   "id": "cebd3895-5cad-43cd-ad14-879bb03aca4d",
   "metadata": {},
   "outputs": [],
   "source": [
    "# torch optim model_lr_1"
   ]
  },
  {
   "cell_type": "code",
   "execution_count": 114,
   "id": "e60ecc39-1385-443d-8a43-d906874b2afa",
   "metadata": {},
   "outputs": [],
   "source": [
    "BATCH_SIZE_LR_1 = 16"
   ]
  },
  {
   "cell_type": "code",
   "execution_count": 115,
   "id": "43084951-e491-4c2f-b65d-a9df647e2ed4",
   "metadata": {},
   "outputs": [],
   "source": [
    "# torch batch"
   ]
  },
  {
   "cell_type": "code",
   "execution_count": 116,
   "id": "eace13fa-cbd6-480f-adb0-1a821e820e01",
   "metadata": {},
   "outputs": [],
   "source": [
    "EPOCHS_LR_1 = 1000"
   ]
  },
  {
   "cell_type": "code",
   "execution_count": 117,
   "id": "b398fc65-ef02-47c2-8c1f-47e873202992",
   "metadata": {},
   "outputs": [],
   "source": [
    "# torch epochs"
   ]
  },
  {
   "cell_type": "code",
   "execution_count": 118,
   "id": "6bd5d561-67f5-4891-ae84-e5e8c6613ee0",
   "metadata": {},
   "outputs": [
    {
     "name": "stderr",
     "output_type": "stream",
     "text": [
      "100%|█████████████████████████████████████| 1000/1000 [00:00<00:00, 2088.73it/s]\n"
     ]
    }
   ],
   "source": [
    "for epoch in tqdm.trange(EPOCHS_LR_1):\n",
    "    for i in range((n_data - 1) // BATCH_SIZE_LR_1 + 1):\n",
    "        start_i = i * BATCH_SIZE_LR_1\n",
    "        end_i = start_i + BATCH_SIZE_LR_1\n",
    "        Xb = X_train_tensor[start_i: end_i]\n",
    "        yb = y_train_tensor[start_i: end_i]\n",
    "        pred_2 = yb\n",
    "        loss = loss_func(pred_2, yb + 1)"
   ]
  },
  {
   "cell_type": "code",
   "execution_count": 119,
   "id": "40524ffe-8c76-46bc-8206-663390b9c5cf",
   "metadata": {},
   "outputs": [],
   "source": [
    "# for epoch in tqdm.trange(EPOCHS_LR_1)"
   ]
  },
  {
   "cell_type": "code",
   "execution_count": 120,
   "id": "309ef02b-469f-494e-9528-30433e52d5f5",
   "metadata": {},
   "outputs": [
    {
     "name": "stdout",
     "output_type": "stream",
     "text": [
      "         crim    zn  indus  chas    nox     rm    age     dis  rad  tax  \\\n",
      "173   0.09178   0.0   4.05     0  0.510  6.416   84.1  2.6463    5  296   \n",
      "274   0.05644  40.0   6.41     1  0.447  6.758   32.9  4.0776    4  254   \n",
      "491   0.10574   0.0  27.74     0  0.609  5.983   98.8  1.8681    4  711   \n",
      "72    0.09164   0.0  10.81     0  0.413  6.065    7.8  5.2873    4  305   \n",
      "452   5.09017   0.0  18.10     0  0.713  6.297   91.8  2.3682   24  666   \n",
      "..        ...   ...    ...   ...    ...    ...    ...     ...  ...  ...   \n",
      "412  18.81100   0.0  18.10     0  0.597  4.628  100.0  1.5539   24  666   \n",
      "436  14.42080   0.0  18.10     0  0.740  6.461   93.3  2.0026   24  666   \n",
      "411  14.05070   0.0  18.10     0  0.597  6.657  100.0  1.5275   24  666   \n",
      "86    0.05188   0.0   4.49     0  0.449  6.015   45.1  4.4272    3  247   \n",
      "75    0.09512   0.0  12.83     0  0.437  6.286   45.0  4.5026    5  398   \n",
      "\n",
      "     ptratio   black  \n",
      "173     16.6  395.50  \n",
      "274     17.6  396.90  \n",
      "491     20.1  390.11  \n",
      "72      19.2  390.91  \n",
      "452     20.2  385.09  \n",
      "..       ...     ...  \n",
      "412     20.2   28.79  \n",
      "436     20.2   27.49  \n",
      "411     20.2   35.05  \n",
      "86      18.5  395.99  \n",
      "75      18.7  383.23  \n",
      "\n",
      "[102 rows x 12 columns]\n"
     ]
    }
   ],
   "source": [
    "print(X_test)"
   ]
  },
  {
   "cell_type": "code",
   "execution_count": 121,
   "id": "e681192e-f74d-4a82-9056-40d340412485",
   "metadata": {},
   "outputs": [],
   "source": [
    "# X_test"
   ]
  },
  {
   "cell_type": "code",
   "execution_count": 122,
   "id": "e05d4ae7-ab2c-45bf-b59c-705ed6468416",
   "metadata": {},
   "outputs": [
    {
     "name": "stdout",
     "output_type": "stream",
     "text": [
      "173     9.04\n",
      "274     3.53\n",
      "491    18.07\n",
      "72      5.52\n",
      "452    17.27\n",
      "       ...  \n",
      "412    34.37\n",
      "436    18.05\n",
      "411    21.22\n",
      "86     12.86\n",
      "75      8.94\n",
      "Name: lstat, Length: 102, dtype: float64\n"
     ]
    }
   ],
   "source": [
    "print(y_test)"
   ]
  },
  {
   "cell_type": "code",
   "execution_count": 123,
   "id": "3eb47123-c68f-4e1a-b15a-9527c323fb9d",
   "metadata": {},
   "outputs": [],
   "source": [
    "# y_test"
   ]
  },
  {
   "cell_type": "code",
   "execution_count": 124,
   "id": "c6598fd0-1512-4967-8e26-ca6d7afe350e",
   "metadata": {},
   "outputs": [],
   "source": [
    "def train_1(model_lr_1, loss_fn, optimizer):\n",
    "    \"\"\"function_1 train_1\"\"\"\n",
    "    size = len('city.csv')\n",
    "    model_lr_1.train()\n",
    "    for BATCH_SIZE_LR_1, (X, y) in tqdm.trange(EPOCHS_LR_1):\n",
    "        X, y = X.to_device, y.to_device\n",
    "        pred_3 = model_lr_1(X)\n",
    "        loss = loss_fn(pred_3, y)\n",
    "        optimizer.zero_grad()\n",
    "        loss.backward()\n",
    "        optimizer.step()\n",
    "        if BATCH_SIZE_LR_1 % 16 == 0:\n",
    "            loss_3 = loss.iten(), BATCH_SIZE_LR * len(X)\n",
    "            print(f'loss: {loss_3}')"
   ]
  },
  {
   "cell_type": "code",
   "execution_count": 125,
   "id": "28f3d595-4783-45c0-978b-880809a0aaa9",
   "metadata": {},
   "outputs": [],
   "source": [
    "# function_1 train_1"
   ]
  },
  {
   "cell_type": "code",
   "execution_count": 126,
   "id": "271c3525-1d4a-48ab-8014-0da6f76b276a",
   "metadata": {},
   "outputs": [
    {
     "name": "stdout",
     "output_type": "stream",
     "text": [
      "tensor([[0.1262]])\n"
     ]
    }
   ],
   "source": [
    "with torch.no_grad():\n",
    "    print(model_lr_1(X_test_tensor[-1:]))"
   ]
  },
  {
   "cell_type": "code",
   "execution_count": 127,
   "id": "666e9037-c010-483e-a27b-21c0dabb3dbe",
   "metadata": {},
   "outputs": [],
   "source": [
    "# X_test_tensor[-1:]"
   ]
  },
  {
   "cell_type": "code",
   "execution_count": 128,
   "id": "5b34b625-109a-4b4e-96a6-c128ebfa0fde",
   "metadata": {},
   "outputs": [],
   "source": [
    "torch.save(model_lr_1, \"lr_1.pth\")"
   ]
  },
  {
   "cell_type": "code",
   "execution_count": 129,
   "id": "23ade143-e00c-4e07-81fc-76a53621aeac",
   "metadata": {},
   "outputs": [],
   "source": [
    "# torch.save(model_lr_1)"
   ]
  },
  {
   "cell_type": "code",
   "execution_count": null,
   "id": "6e5da0f4-c64f-4934-a2ff-2651b5e5c67b",
   "metadata": {},
   "outputs": [],
   "source": []
  }
 ],
 "metadata": {
  "kernelspec": {
   "display_name": "Python 3 (ipykernel)",
   "language": "python",
   "name": "python3"
  },
  "language_info": {
   "codemirror_mode": {
    "name": "ipython",
    "version": 3
   },
   "file_extension": ".py",
   "mimetype": "text/x-python",
   "name": "python",
   "nbconvert_exporter": "python",
   "pygments_lexer": "ipython3",
   "version": "3.10.12"
  }
 },
 "nbformat": 4,
 "nbformat_minor": 5
}
